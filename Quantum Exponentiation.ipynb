{
 "cells": [
  {
   "cell_type": "markdown",
   "metadata": {},
   "source": [
    "# Quantum Exponentiation: g<sup>x</sup> mod N where N = 15\n",
    "\n"
   ]
  },
  {
   "cell_type": "code",
   "execution_count": 1,
   "metadata": {},
   "outputs": [],
   "source": [
    "import pandas as pd\n",
    "from math import gcd\n",
    "from qiskit import *\n",
    "from qiskit.visualization import plot_histogram"
   ]
  },
  {
   "cell_type": "markdown",
   "metadata": {},
   "source": [
    "## Variables"
   ]
  },
  {
   "cell_type": "code",
   "execution_count": 2,
   "metadata": {},
   "outputs": [],
   "source": [
    "g = 13\n",
    "x = 3\n",
    "N = 15\n",
    "x_bin = \"{0:b}\".format(x)\n",
    "n_qubits = len(x_bin)\n",
    "\n",
    "if gcd(g, N) != 1:\n",
    "    raise ValueError(\"g must be relatively first with N (15)!\")"
   ]
  },
  {
   "cell_type": "markdown",
   "metadata": {},
   "source": [
    "## Introductory information"
   ]
  },
  {
   "cell_type": "code",
   "execution_count": 6,
   "metadata": {},
   "outputs": [
    {
     "data": {
      "text/html": [
       "<div>\n",
       "<style scoped>\n",
       "    .dataframe tbody tr th:only-of-type {\n",
       "        vertical-align: middle;\n",
       "    }\n",
       "\n",
       "    .dataframe tbody tr th {\n",
       "        vertical-align: top;\n",
       "    }\n",
       "\n",
       "    .dataframe thead th {\n",
       "        text-align: right;\n",
       "    }\n",
       "</style>\n",
       "<table border=\"1\" class=\"dataframe\">\n",
       "  <thead>\n",
       "    <tr style=\"text-align: right;\">\n",
       "      <th></th>\n",
       "      <th>power</th>\n",
       "      <th>modulo</th>\n",
       "    </tr>\n",
       "  </thead>\n",
       "  <tbody>\n",
       "    <tr>\n",
       "      <th>0</th>\n",
       "      <td>0</td>\n",
       "      <td>1</td>\n",
       "    </tr>\n",
       "    <tr>\n",
       "      <th>1</th>\n",
       "      <td>1</td>\n",
       "      <td>13</td>\n",
       "    </tr>\n",
       "    <tr>\n",
       "      <th>2</th>\n",
       "      <td>2</td>\n",
       "      <td>4</td>\n",
       "    </tr>\n",
       "    <tr>\n",
       "      <th>3</th>\n",
       "      <td>3</td>\n",
       "      <td>7</td>\n",
       "    </tr>\n",
       "    <tr>\n",
       "      <th>4</th>\n",
       "      <td>4</td>\n",
       "      <td>1</td>\n",
       "    </tr>\n",
       "    <tr>\n",
       "      <th>5</th>\n",
       "      <td>5</td>\n",
       "      <td>13</td>\n",
       "    </tr>\n",
       "    <tr>\n",
       "      <th>6</th>\n",
       "      <td>6</td>\n",
       "      <td>4</td>\n",
       "    </tr>\n",
       "    <tr>\n",
       "      <th>7</th>\n",
       "      <td>7</td>\n",
       "      <td>7</td>\n",
       "    </tr>\n",
       "    <tr>\n",
       "      <th>8</th>\n",
       "      <td>8</td>\n",
       "      <td>1</td>\n",
       "    </tr>\n",
       "    <tr>\n",
       "      <th>9</th>\n",
       "      <td>9</td>\n",
       "      <td>13</td>\n",
       "    </tr>\n",
       "    <tr>\n",
       "      <th>10</th>\n",
       "      <td>10</td>\n",
       "      <td>4</td>\n",
       "    </tr>\n",
       "    <tr>\n",
       "      <th>11</th>\n",
       "      <td>11</td>\n",
       "      <td>7</td>\n",
       "    </tr>\n",
       "    <tr>\n",
       "      <th>12</th>\n",
       "      <td>12</td>\n",
       "      <td>1</td>\n",
       "    </tr>\n",
       "    <tr>\n",
       "      <th>13</th>\n",
       "      <td>13</td>\n",
       "      <td>13</td>\n",
       "    </tr>\n",
       "    <tr>\n",
       "      <th>14</th>\n",
       "      <td>14</td>\n",
       "      <td>4</td>\n",
       "    </tr>\n",
       "    <tr>\n",
       "      <th>15</th>\n",
       "      <td>15</td>\n",
       "      <td>7</td>\n",
       "    </tr>\n",
       "  </tbody>\n",
       "</table>\n",
       "</div>"
      ],
      "text/plain": [
       "    power  modulo\n",
       "0       0       1\n",
       "1       1      13\n",
       "2       2       4\n",
       "3       3       7\n",
       "4       4       1\n",
       "5       5      13\n",
       "6       6       4\n",
       "7       7       7\n",
       "8       8       1\n",
       "9       9      13\n",
       "10     10       4\n",
       "11     11       7\n",
       "12     12       1\n",
       "13     13      13\n",
       "14     14       4\n",
       "15     15       7"
      ]
     },
     "metadata": {},
     "output_type": "display_data"
    },
    {
     "name": "stdout",
     "output_type": "stream",
     "text": [
      "Number raised to power: 13\n",
      "Power of number: 3\n",
      "Modulo: 15\n",
      "Expected result: 7\n"
     ]
    }
   ],
   "source": [
    "power = list(range(0, N + 1))\n",
    "modulo = [g**x % 15 for x in power]\n",
    "\n",
    "comparison_df = pd.DataFrame()\n",
    "comparison_df['power'] = power\n",
    "comparison_df['modulo'] = modulo\n",
    "\n",
    "display(comparison_df)\n",
    "\n",
    "print('Number raised to power: {number}'.format(number = g))\n",
    "print('Power of number: {power}'.format(power = x))\n",
    "print('Modulo: 15')\n",
    "\n",
    "expected_result = comparison_df.loc[comparison_df['power'] == x]['modulo'].values[0]\n",
    "print('Expected result: {result}'.format(result = expected_result))"
   ]
  },
  {
   "cell_type": "markdown",
   "metadata": {},
   "source": [
    "## Unitary operator U"
   ]
  },
  {
   "cell_type": "code",
   "execution_count": 7,
   "metadata": {},
   "outputs": [],
   "source": [
    "def U(g, power):\n",
    "\n",
    "    U = QuantumCircuit(4)\n",
    "\n",
    "    for _ in range(power):\n",
    "\n",
    "        if g in [2, 13]:\n",
    "            U.swap(0,1)\n",
    "            U.swap(1,2)\n",
    "            U.swap(2,3)\n",
    "\n",
    "        if g in [7, 8]:\n",
    "            U.swap(2,3)\n",
    "            U.swap(1,2)\n",
    "            U.swap(0,1)\n",
    "\n",
    "        if g in [4, 11]:\n",
    "            U.swap(1,3)\n",
    "            U.swap(0,2)\n",
    "\n",
    "        if g in [7, 11, 13]:\n",
    "\n",
    "            for q in range(4):\n",
    "                U.x(q)\n",
    "\n",
    "    U = U.to_gate()\n",
    "    U.name = \"%i^%i mod 15\" % (g, power)\n",
    "\n",
    "    return U.control()"
   ]
  },
  {
   "cell_type": "markdown",
   "metadata": {},
   "source": [
    "## Circuit"
   ]
  },
  {
   "cell_type": "code",
   "execution_count": 8,
   "metadata": {},
   "outputs": [
    {
     "data": {
      "image/png": "[encoded data removed]",
      "text/plain": [
       "<Figure size 929.397x445.48 with 1 Axes>"
      ]
     },
     "metadata": {},
     "output_type": "display_data"
    },
    {
     "name": "stdout",
     "output_type": "stream",
     "text": [
      "Circuit output: 0111\n"
     ]
    }
   ],
   "source": [
    "# create circuit\n",
    "circ = QuantumCircuit(n_qubits + 4, 4)\n",
    "\n",
    "# prepare x input\n",
    "i = 0\n",
    "\n",
    "for b in x_bin[::-1]:\n",
    "\n",
    "    if b == '1':\n",
    "        circ.x(i)\n",
    "        \n",
    "    i += 1\n",
    "\n",
    "circ.barrier()\n",
    "\n",
    "# And auxiliary register in state |1>\n",
    "circ.x(3 + n_qubits)\n",
    "\n",
    "# Do controlled-U operations\n",
    "for q in range(n_qubits):\n",
    "    circ.append(U(g, 2**q), [q] + [i + n_qubits for i in range(4)])\n",
    "\n",
    "circ.barrier()\n",
    "\n",
    "# measures\n",
    "for i in range(4):\n",
    "    circ.measure(n_qubits + i, 3 - i)\n",
    "\n",
    "# display circuit\n",
    "display(circ.draw(output='mpl', style={'backgroundcolor': '#EEEEEE'}))\n",
    "\n",
    "# collect result\n",
    "aer_sim = Aer.get_backend('aer_simulator')\n",
    "t_circ = transpile(circ, aer_sim)\n",
    "job = execute(circ, aer_sim, shots=1, memory=True)\n",
    "output = job.result().get_memory()[0]\n",
    "\n",
    "print('Circuit output: {result}'.format(result = output))\n",
    "circuit_result = int(output, 2)\n"
   ]
  },
  {
   "cell_type": "markdown",
   "metadata": {},
   "source": [
    "## Summary"
   ]
  },
  {
   "cell_type": "code",
   "execution_count": 9,
   "metadata": {},
   "outputs": [
    {
     "name": "stdout",
     "output_type": "stream",
     "text": [
      "Expected result: 7\n",
      "Circuit result: 7\n"
     ]
    }
   ],
   "source": [
    "print('Expected result: {result}'.format(result = expected_result))\n",
    "print('Circuit result: {result}'.format(result = circuit_result))"
   ]
  }
 ],
 "metadata": {
  "interpreter": {
   "hash": "a066a4bfc17e6ff2678d28d8806ad978ab072185f3f8027126b1a582b5c72bb8"
  },
  "kernelspec": {
   "display_name": "Python 3.10.4 ('q-env')",
   "language": "python",
   "name": "python3"
  },
  "language_info": {
   "codemirror_mode": {
    "name": "ipython",
    "version": 3
   },
   "file_extension": ".py",
   "mimetype": "text/x-python",
   "name": "python",
   "nbconvert_exporter": "python",
   "pygments_lexer": "ipython3",
   "version": "3.10.4"
  },
  "orig_nbformat": 4
 },
 "nbformat": 4,
 "nbformat_minor": 2
}
